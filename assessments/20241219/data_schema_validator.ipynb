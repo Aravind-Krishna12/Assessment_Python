{
 "cells": [
  {
   "cell_type": "markdown",
   "metadata": {},
   "source": [
    "Exercise 2: Data Schema Validator\n",
    "\n",
    "Scenario\n",
    "\n",
    "You're building a data validation system for a data warehouse. The system needs to\n",
    "validate incoming data against predefined schemas stored in JSON format.\n",
    "\n",
    "Task\n",
    "\n",
    "Create a schema validation system that can process incoming data and verify it matches\n",
    "the expected structure and data types."
   ]
  },
  {
   "cell_type": "markdown",
   "metadata": {},
   "source": [
    "1. Create a function that extracts column details from the schema file:\n",
    "Use lambda functions to transform complex column definitions\n",
    "Create a mapping of table names to their column specifications"
   ]
  },
  {
   "cell_type": "code",
   "execution_count": 1,
   "metadata": {},
   "outputs": [],
   "source": [
    "import json\n",
    "\n",
    "def extract_column_details(schema_file):\n",
    "\n",
    "    with open(schema_file, 'r') as f:\n",
    "        schema = json.load(f)\n",
    "\n",
    "    table_columns = {}\n",
    "    for table in schema['tables']:\n",
    "        table_columns[table['name']] = [\n",
    "            {\n",
    "                \"name\": col['name'],\n",
    "                \"type\": col['type'],\n",
    "                \"required\": col.get('required', False),\n",
    "                \"validation\": col.get('validation', {})\n",
    "            } for col in table['columns']\n",
    "        ]\n",
    "    return table_columns\n"
   ]
  },
  {
   "cell_type": "markdown",
   "metadata": {},
   "source": [
    "2. Create analysis functions that:\n",
    "Group transactions by region and calculate regional sales\n",
    "Find top-selling products using sorted() with custom key\n",
    "Calculate average transaction value by payment method"
   ]
  },
  {
   "cell_type": "markdown",
   "metadata": {},
   "source": [
    "3. Create a report generation function that:\n",
    "Filters completed transactions using filter()\n",
    "Sorts data by multiple criteria using lambda\n",
    "Generates summary statistics for different time periods"
   ]
  },
  {
   "cell_type": "code",
   "execution_count": null,
   "metadata": {},
   "outputs": [],
   "source": []
  }
 ],
 "metadata": {
  "kernelspec": {
   "display_name": "Python 3",
   "language": "python",
   "name": "python3"
  },
  "language_info": {
   "codemirror_mode": {
    "name": "ipython",
    "version": 3
   },
   "file_extension": ".py",
   "mimetype": "text/x-python",
   "name": "python",
   "nbconvert_exporter": "python",
   "pygments_lexer": "ipython3",
   "version": "3.12.8"
  }
 },
 "nbformat": 4,
 "nbformat_minor": 2
}
