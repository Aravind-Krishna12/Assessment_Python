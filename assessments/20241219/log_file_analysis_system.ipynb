{
 "cells": [
  {
   "cell_type": "markdown",
   "metadata": {},
   "source": [
    "Exercise 1: Log File Analysis System\n",
    "\n",
    "Scenario\n",
    "\n",
    "You're working at a cloud services company that needs to analyze system logs from\n",
    "multiple servers. The logs are in JSON format and contain information about server\n",
    "events, errors, and performance metrics.\n",
    "\n",
    "Task\n",
    "\n",
    "Create a system that can process and analyze these log entries to help identify\n",
    "potential issues and generate reports."
   ]
  },
  {
   "cell_type": "code",
   "execution_count": null,
   "metadata": {},
   "outputs": [],
   "source": [
    "import json\n",
    "\n",
    "def read_json(file_path):\n",
    "  \n",
    "    with open(file_path, 'r') as f:\n",
    "        logs = json.load(f)\n",
    "    return logs\n",
    "\n",
    "\n",
    "file_path = r'C:\\Users\\aravi\\Desktop\\Assessment_Python\\assessments\\20241219\\sample-dataset-1.json'  \n",
    "logs = read_json(file_path)"
   ]
  },
  {
   "cell_type": "code",
   "execution_count": null,
   "metadata": {},
   "outputs": [],
   "source": [
    "logs"
   ]
  },
  {
   "cell_type": "markdown",
   "metadata": {},
   "source": [
    "1. Create a function that filters log entries to find:\n",
    "\n",
    "All high-priority warnings using filter() and lambda\n",
    "Servers with CPU usage above 80% using list comprehension"
   ]
  },
  {
   "cell_type": "code",
   "execution_count": null,
   "metadata": {},
   "outputs": [],
   "source": [
    "def filter_logs(logs):\n",
    "  \n",
    "    high_priority_warnings = list(filter(lambda entry: entry[\"status\"] == \"warning\" and entry[\"priority\"] == \"high\", logs))\n",
    "    high_cpu_servers = [entry[\"server_id\"] for entry in logs if entry[\"event_type\"] == \"performance\" and entry[\"metrics\"][\"cpu_usage\"] > 80]\n",
    "    return high_priority_warnings, high_cpu_servers\n"
   ]
  },
  {
   "cell_type": "markdown",
   "metadata": {},
   "source": [
    "2. Create a function that extracts unique server IDs using map() and set()"
   ]
  },
  {
   "cell_type": "code",
   "execution_count": null,
   "metadata": {},
   "outputs": [],
   "source": [
    "def unique_server_ids(logs):\n",
    "  \n",
    "    unique_server_ids = set(map(lambda entry: entry[\"server_id\"], logs))\n",
    "    return unique_server_ids"
   ]
  },
  {
   "cell_type": "markdown",
   "metadata": {},
   "source": [
    "3. Create a function that sorts the log entries by:\n",
    "Timestamp (primary key)\n",
    "Priority (secondary key) Using the sorted() function with a lambda key"
   ]
  },
  {
   "cell_type": "code",
   "execution_count": null,
   "metadata": {},
   "outputs": [],
   "source": [
    "def sorted_entries(logs):\n",
    "  \n",
    "    sorted_logs = sorted(logs, key=lambda entry: (entry[\"timestamp\"], entry[\"priority\"]))\n",
    "    return sorted_logs"
   ]
  },
  {
   "cell_type": "markdown",
   "metadata": {},
   "source": [
    "4. Bonus: Create a function that generates a summary report showing:\n",
    "Count of events by priority\n",
    "List of unique event types\n",
    "Average CPU usage across all servers"
   ]
  },
  {
   "cell_type": "code",
   "execution_count": null,
   "metadata": {},
   "outputs": [],
   "source": [
    "def generate_summary_report(logs):\n",
    "   return "
   ]
  },
  {
   "cell_type": "code",
   "execution_count": null,
   "metadata": {},
   "outputs": [],
   "source": [
    "filter_logs(logs)"
   ]
  },
  {
   "cell_type": "code",
   "execution_count": null,
   "metadata": {},
   "outputs": [],
   "source": [
    "unique_server_ids(logs)"
   ]
  },
  {
   "cell_type": "code",
   "execution_count": null,
   "metadata": {},
   "outputs": [],
   "source": [
    "sorted_entries(logs)"
   ]
  },
  {
   "cell_type": "code",
   "execution_count": null,
   "metadata": {},
   "outputs": [],
   "source": []
  }
 ],
 "metadata": {
  "kernelspec": {
   "display_name": "Python 3",
   "language": "python",
   "name": "python3"
  },
  "language_info": {
   "codemirror_mode": {
    "name": "ipython",
    "version": 3
   },
   "file_extension": ".py",
   "mimetype": "text/x-python",
   "name": "python",
   "nbconvert_exporter": "python",
   "pygments_lexer": "ipython3",
   "version": "3.12.8"
  }
 },
 "nbformat": 4,
 "nbformat_minor": 2
}
